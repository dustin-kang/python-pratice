{
  "nbformat": 4,
  "nbformat_minor": 0,
  "metadata": {
    "colab": {
      "provenance": [],
      "toc_visible": true,
      "authorship_tag": "ABX9TyNk+fqSBvTzUdO9HKUoGRpn",
      "include_colab_link": true
    },
    "kernelspec": {
      "name": "python3",
      "display_name": "Python 3"
    },
    "language_info": {
      "name": "python"
    }
  },
  "cells": [
    {
      "cell_type": "markdown",
      "metadata": {
        "id": "view-in-github",
        "colab_type": "text"
      },
      "source": [
        "<a href=\"https://colab.research.google.com/github/dustin-kang/CODINGTEST/blob/Python/Pythoncode.ipynb\" target=\"_parent\"><img src=\"https://colab.research.google.com/assets/colab-badge.svg\" alt=\"Open In Colab\"/></a>"
      ]
    },
    {
      "cell_type": "markdown",
      "source": [
        "[💡 파이썬 공식문서](https://docs.python.org/ko/3.9/)\n",
        "\n",
        "# 자료형\n",
        "파이썬의 자료형은 기본 자료형 뿐만 아니라 사전, 집합 자료형 등도 포함하고 있습니다.\n",
        "\n"
      ],
      "metadata": {
        "id": "gMUIubPzcFBV"
      }
    },
    {
      "cell_type": "markdown",
      "source": [
        "## 수 자료형\n",
        "- 정수형(Integer) : 양의 정수, 음의 정수, 0\n",
        "- 실수형(Real Number) : 소수점 아래의 데이터를 포함하는 자료형\n",
        "\n",
        "```python\n",
        "a = -7 # 음의 정수\n",
        "a = -.7 # 정수부가 0일 때 0을 생략한 자료형\n",
        "```\n",
        "\n",
        "### 무한(INF) 표현하기\n",
        "파이썬에서는 실수형을 이용하여 `e`나 `E` 다음에 숫자를 넣어 지수를 표현할 수 있습니다.\n",
        "만약에 **1e9일 경우 10억**을 지수로 표현한 방법입니다.\n",
        "\n",
        "### 수 자료형 연산\n",
        "보통 특정 변수 a가 홀수 인지를 알아볼때 `a가 2로 나눈 나머지가 1인지를 확인하는 경우`로 알아보는데 이때 나머지 연산자(`%`)를 사용합니다."
      ],
      "metadata": {
        "id": "tWqJ64Kdcg4I"
      }
    },
    {
      "cell_type": "code",
      "source": [
        "a = 75.25e1\n",
        "print(a)\n",
        "\n",
        "b = 3954e-3\n",
        "print(b)"
      ],
      "metadata": {
        "colab": {
          "base_uri": "https://localhost:8080/"
        },
        "id": "xThpuZY3cgLH",
        "outputId": "6f76799d-bb3d-45ca-f2b4-a311bd343770"
      },
      "execution_count": 4,
      "outputs": [
        {
          "output_type": "stream",
          "name": "stdout",
          "text": [
            "752.5\n",
            "3.954\n"
          ]
        }
      ]
    },
    {
      "cell_type": "code",
      "source": [
        "# 컴퓨터는 실수를 정확히 표현하지 못합니다.\n",
        "a = 0.3 + 0.6\n",
        "print(a)\n",
        "# 이럴 때는 round()함수를 사용하여 반올림을 합니다.\n",
        "print(round(a, 4))\n",
        "\n",
        "if a == 0.9:\n",
        "  print(True)\n",
        "else :\n",
        "  print(False) "
      ],
      "metadata": {
        "colab": {
          "base_uri": "https://localhost:8080/"
        },
        "id": "JNYaDBareJMN",
        "outputId": "35b60095-cacb-4a30-c178-c444246eeec4"
      },
      "execution_count": 7,
      "outputs": [
        {
          "output_type": "stream",
          "name": "stdout",
          "text": [
            "0.8999999999999999\n",
            "0.9\n",
            "False\n"
          ]
        }
      ]
    },
    {
      "cell_type": "code",
      "source": [
        "a = 7\n",
        "b = 3\n",
        "\n",
        "print(a/b)\n",
        "\n",
        "print(a%b) # 나머지\n",
        "print(a//b) # 몫\n",
        "\n",
        "print(a**b) # 제곱"
      ],
      "metadata": {
        "colab": {
          "base_uri": "https://localhost:8080/"
        },
        "id": "8c20aW9xemtC",
        "outputId": "1f9664c8-2751-4cf9-ba32-468c1d7e2147"
      },
      "execution_count": 11,
      "outputs": [
        {
          "output_type": "stream",
          "name": "stdout",
          "text": [
            "2.3333333333333335\n",
            "1\n",
            "2\n",
            "343\n"
          ]
        }
      ]
    },
    {
      "cell_type": "markdown",
      "source": [
        "## 리스트 자료형\n",
        "여러개 데이터를 연속적으로 담아 처리할 수 있고 연결리스트 자료구조 기능을 포함하고 있어 `append()` `remove()` 등 메서드를 지원합니다.\n",
        "\n",
        "```python\n",
        "# 리스트 선언 및 생성\n",
        "a = [1, 2, 3, 4, 5, 6]\n",
        "\n",
        "# 빈 리스트 선언\n",
        "a = list()\n",
        "a = []\n",
        "\n",
        "# 크기가 N이고 모든 값이 0인 1차원 리스트 초기화\n",
        "n = 10\n",
        "a = [0] * n\n",
        "```\n",
        "\n",
        "### 리스트 컴프리헨션\n",
        "리스트를 초기화하는 방법 중 하나로 대괄호`[]`안에 조건문이나 반복문을 넣어 간결하게 초기화할 수 있습니다.\n",
        "\n",
        "```python\n",
        "# 20까지의 수 중에서 홀수만 담은 리스트 초기화\n",
        "array = [i for i in range(20) if i % 2 == 1]\n",
        "\n",
        "# n X m 크기의 2차원 리스트 초기화\n",
        "n = 3\n",
        "m = 4\n",
        "array = [[0] * m for _ in range(n)]\n",
        "```\n",
        "\n",
        "> 💡 특정 크기를 가지는 2차원 리스트를 초기화할 떄는 반드시 리스트 컴프리핸션을 사용합니다.\n",
        "\n",
        "| 메서드 명 | 사용법 | 시간 복잡도 |\n",
        "| --- | --- | --- |\n",
        "| append() | 변수명.append() | O(1) |\n",
        "| sort() | 변수명.sort(), `reverse` 옵션으로 내림차순 가능 | O(NlogN) |\n",
        "| reverse() | 변수명.reverse() | O(N) |\n",
        "| insert() | 변수명.insert(삽입 인덱스, 삽입 값) | O(N) |\n",
        "| count() | 변수명.count(특정값) | O(N) |\n",
        "| remove() | 변수명.remove(특정 값) | O(N) |\n",
        "\n",
        "\n",
        "`insert()`와 `remove()`는 `append()`와 다르게 O(N)입니다. 이유는 데이터를 추가/삭제하고나서 원소의 위치를 다시 조정해야하기 때문입니다.\n",
        "\n"
      ],
      "metadata": {
        "id": "B7af2Gl6fMfW"
      }
    },
    {
      "cell_type": "code",
      "source": [
        "a = [1, 4, 3]\n",
        "print(\"기본 리스트: \", a)\n",
        "\n",
        "a.append(2)\n",
        "print(\"원소 삽입: \", a)\n",
        "\n",
        "a.sort()\n",
        "print(\"오름차순 정렬: \", a)\n",
        "\n",
        "a.sort(reverse=True)\n",
        "print(\"내림차순 정렬: \", a)\n",
        "\n",
        "a.reverse()\n",
        "print(\"원소 뒤집기: \", a)\n",
        "\n",
        "a.insert(0, 0)\n",
        "print(\"인덱스 0에 0 추가: \", a)\n",
        "\n",
        "print(\"특정 값 갯수 세기: \", a.count(3))\n",
        "\n",
        "a.remove(2)\n",
        "print(\"값이 2인 데이터 제거: \", a)"
      ],
      "metadata": {
        "colab": {
          "base_uri": "https://localhost:8080/"
        },
        "id": "_mIjUyKIe6kx",
        "outputId": "c1c04a13-bca9-4b96-e01a-6c3630475810"
      },
      "execution_count": 21,
      "outputs": [
        {
          "output_type": "stream",
          "name": "stdout",
          "text": [
            "기본 리스트:  [1, 4, 3]\n",
            "원소 삽입:  [1, 4, 3, 2]\n",
            "오름차순 정렬:  [1, 2, 3, 4]\n",
            "내림차순 정렬:  [4, 3, 2, 1]\n",
            "원소 뒤집기:  [1, 2, 3, 4]\n",
            "인덱스 0에 0 추가:  [0, 1, 2, 3, 4]\n",
            "특정 값 갯수 세기:  1\n",
            "값이 2인 데이터 제거:  [0, 1, 3, 4]\n"
          ]
        }
      ]
    },
    {
      "cell_type": "code",
      "source": [
        "# 특정 값의 원소 모두 제거하는 방법\n",
        "a = [1, 2, 3, 4, 5, 5, 5]\n",
        "remove_set = {3, 5}\n",
        "\n",
        "# remove_set에 포함되지 않은 값만 제거\n",
        "result = [i for i in a if i not in remove_set]\n",
        "print(result)"
      ],
      "metadata": {
        "colab": {
          "base_uri": "https://localhost:8080/"
        },
        "id": "MRq4dlhviR71",
        "outputId": "6adaba1f-ef96-4256-f53f-3c5d2cfc568c"
      },
      "execution_count": 22,
      "outputs": [
        {
          "output_type": "stream",
          "name": "stdout",
          "text": [
            "[1, 2, 4]\n"
          ]
        }
      ]
    },
    {
      "cell_type": "code",
      "source": [
        "# 리스트 인덱싱과 슬라이싱\n",
        "\n",
        "a = [1, 2, 3, 4, 5, 6, 7, 8, 9]\n",
        "\n",
        "print(a[-3]) # 뒤에서 세번째 인덱스\n",
        "\n",
        "a[3] = 9 # 원소 값 변경\n",
        "print(a)\n",
        "\n",
        "# 1부터 9 까지 3칸 뛰면서 슬라이싱\n",
        "print(a[::3])"
      ],
      "metadata": {
        "colab": {
          "base_uri": "https://localhost:8080/"
        },
        "id": "g90ymkZ_j0og",
        "outputId": "c9404bfa-a7d8-405d-8b5c-657596fe937b"
      },
      "execution_count": 24,
      "outputs": [
        {
          "output_type": "stream",
          "name": "stdout",
          "text": [
            "7\n",
            "[1, 2, 3, 9, 5, 6, 7, 8, 9]\n",
            "[1, 9, 7]\n"
          ]
        }
      ]
    },
    {
      "cell_type": "markdown",
      "source": [
        "## 문자열 자료형\n",
        "문자열 변수는 초기화할 때 큰 따옴표와 작은 따옴표를 사용하는데 큰 타옴표 안에 작은 따옴표를 포함할 수 있습니다. 백슬래쉬(`\\\"`) 다음에 따옴표를 사용하면 문자로 처리할 수 있습니다.\n"
      ],
      "metadata": {
        "id": "L28zqptvkUkT"
      }
    },
    {
      "cell_type": "code",
      "source": [
        "a = \"String\"\n",
        "print(a * 3)\n",
        "\n",
        "a = \"ABCDE\"\n",
        "print(a[2:4])"
      ],
      "metadata": {
        "colab": {
          "base_uri": "https://localhost:8080/"
        },
        "id": "InLsQjHtkFpr",
        "outputId": "7775d791-06d0-451b-81f7-ba673000611d"
      },
      "execution_count": 25,
      "outputs": [
        {
          "output_type": "stream",
          "name": "stdout",
          "text": [
            "StringStringString\n",
            "CD\n"
          ]
        }
      ]
    },
    {
      "cell_type": "markdown",
      "source": [
        "## 튜플 자료형\n",
        "튜플 자료형은 리스트와 비슷하나 **두가지의 차이점**이 존재합니다.\n",
        "\n",
        "1. 튜플은 한 번 선언된 값은 **다시 변경할 수 없다.**\n",
        "2. 리스트는 대괄호`[]`를 아용하지만 튜플은 소괄호`()`를 이용한다.\n",
        "\n",
        "- 튜플 자료형은 그래프 알고리즘을 구현할 떄 자주 사용합니다. (다익스트라 알고리즘 내부의 우선순위 큐)\n"
      ],
      "metadata": {
        "id": "pgq9nZ4qlFFR"
      }
    },
    {
      "cell_type": "code",
      "source": [
        "a = (1,2,3,4)\n",
        "a[2] = 5"
      ],
      "metadata": {
        "colab": {
          "base_uri": "https://localhost:8080/",
          "height": 181
        },
        "id": "onNrRxHQlBVa",
        "outputId": "c9e8ea25-3b80-4916-9ae4-aa3dadcc000a"
      },
      "execution_count": 27,
      "outputs": [
        {
          "output_type": "error",
          "ename": "TypeError",
          "evalue": "ignored",
          "traceback": [
            "\u001b[0;31m---------------------------------------------------------------------------\u001b[0m",
            "\u001b[0;31mTypeError\u001b[0m                                 Traceback (most recent call last)",
            "\u001b[0;32m<ipython-input-27-2d4c3e60a943>\u001b[0m in \u001b[0;36m<module>\u001b[0;34m\u001b[0m\n\u001b[1;32m      1\u001b[0m \u001b[0ma\u001b[0m \u001b[0;34m=\u001b[0m \u001b[0;34m(\u001b[0m\u001b[0;36m1\u001b[0m\u001b[0;34m,\u001b[0m\u001b[0;36m2\u001b[0m\u001b[0;34m,\u001b[0m\u001b[0;36m3\u001b[0m\u001b[0;34m,\u001b[0m\u001b[0;36m4\u001b[0m\u001b[0;34m)\u001b[0m\u001b[0;34m\u001b[0m\u001b[0;34m\u001b[0m\u001b[0m\n\u001b[0;32m----> 2\u001b[0;31m \u001b[0ma\u001b[0m\u001b[0;34m[\u001b[0m\u001b[0;36m2\u001b[0m\u001b[0;34m]\u001b[0m \u001b[0;34m=\u001b[0m \u001b[0;36m5\u001b[0m\u001b[0;34m\u001b[0m\u001b[0;34m\u001b[0m\u001b[0m\n\u001b[0m",
            "\u001b[0;31mTypeError\u001b[0m: 'tuple' object does not support item assignment"
          ]
        }
      ]
    },
    {
      "cell_type": "markdown",
      "source": [
        "## 사전 자료형\n",
        "사전 자료형은 키(key)과 값(Value)쌍으로 구성되며 튜플 처럼 변경이 불가능한 데이터를 키로 사용할 수 있다.\n",
        "\n",
        "- 사전 자료형은 검색 및 수정에 있어 O(1)에 시간에 처리할 수 있습니다."
      ],
      "metadata": {
        "id": "mu0JypXQl27Q"
      }
    },
    {
      "cell_type": "code",
      "source": [
        "data = dict()\n",
        "data['사과'] = 'Apple'\n",
        "data['바나나'] = 'Banana'\n",
        "data['코코넛'] = 'Coconut'\n",
        "\n",
        "if '사과' in data:\n",
        "  print(\"'사과'를 키로 가지는 데이터가 존재합니다.\")"
      ],
      "metadata": {
        "colab": {
          "base_uri": "https://localhost:8080/"
        },
        "id": "vzhY-h5Hlyk3",
        "outputId": "e28dbf3d-5496-4e7c-89a5-3faf05030a7c"
      },
      "execution_count": 28,
      "outputs": [
        {
          "output_type": "stream",
          "name": "stdout",
          "text": [
            "'사과'를 키로 가지는 데이터가 존재합니다.\n"
          ]
        }
      ]
    },
    {
      "cell_type": "code",
      "source": [
        "key_list = data.keys()\n",
        "print(key_list)\n",
        "\n",
        "value_list = data.values()\n",
        "print(value_list)\n",
        "\n",
        "print(\" \")\n",
        "\n",
        "\n",
        "for key in key_list:\n",
        "  print(data[key])"
      ],
      "metadata": {
        "colab": {
          "base_uri": "https://localhost:8080/"
        },
        "id": "OEM5N1Fwm5fp",
        "outputId": "7656fd0e-8754-4c73-e387-ead74c70a151"
      },
      "execution_count": 32,
      "outputs": [
        {
          "output_type": "stream",
          "name": "stdout",
          "text": [
            "dict_keys(['사과', '바나나', '코코넛'])\n",
            "dict_values(['Apple', 'Banana', 'Coconut'])\n",
            " \n",
            "Apple\n",
            "Banana\n",
            "Coconut\n"
          ]
        }
      ]
    },
    {
      "cell_type": "markdown",
      "source": [
        "## 집합 자료형\n",
        "집합을 처리하는 자료형으로 기본적으로 리스트와 문자열을 통해서 만들 수 있습니다.\n",
        "- 중복 허용 X\n",
        "- 순서 X\n",
        "- 시간 복잡도 O(1)\n",
        "\n",
        "보통 특정한 데이터가 이미 등장한 적 있는지 여부를 체크할 때 매우 효과적입니다.\n",
        "\n",
        "### 집합 자료형 연산\n",
        "- 합집합 : |\n",
        "- 교집합 : &\n",
        "- 차집합 : -\n",
        "\n",
        "### 관련 함수\n",
        "- `변수명.add(값)` : 원소 추가\n",
        "- `변수명.update([값,값]) : 원소 여려개 추가\n",
        "- `변수명.remove(값)` : 원소 삭제"
      ],
      "metadata": {
        "id": "Q4aE_COQnZac"
      }
    },
    {
      "cell_type": "code",
      "source": [
        "data = set([1,2,3])\n",
        "print(data)\n",
        "\n",
        "data.update([5,6])\n",
        "print(data)\n",
        "\n",
        "data.remove(3)\n",
        "print(data)"
      ],
      "metadata": {
        "colab": {
          "base_uri": "https://localhost:8080/"
        },
        "id": "GAGLzaYanBBf",
        "outputId": "76205957-50e4-47d5-aca5-3c02d295ba61"
      },
      "execution_count": 34,
      "outputs": [
        {
          "output_type": "stream",
          "name": "stdout",
          "text": [
            "{1, 2, 3}\n",
            "{1, 2, 3, 5, 6}\n",
            "{1, 2, 5, 6}\n"
          ]
        }
      ]
    },
    {
      "cell_type": "markdown",
      "source": [
        "# 제어문과 함수"
      ],
      "metadata": {
        "id": "Zt2RTbYKoj1M"
      }
    },
    {
      "cell_type": "code",
      "source": [],
      "metadata": {
        "id": "fkuSN_k9okxS"
      },
      "execution_count": null,
      "outputs": []
    }
  ]
}