{
  "nbformat": 4,
  "nbformat_minor": 0,
  "metadata": {
    "colab": {
      "provenance": [],
      "toc_visible": true,
      "authorship_tag": "ABX9TyMJywZfSeYxMNuMWXUnJwW/",
      "include_colab_link": true
    },
    "kernelspec": {
      "name": "python3",
      "display_name": "Python 3"
    },
    "language_info": {
      "name": "python"
    }
  },
  "cells": [
    {
      "cell_type": "markdown",
      "metadata": {
        "id": "view-in-github",
        "colab_type": "text"
      },
      "source": [
        "<a href=\"https://colab.research.google.com/github/dustin-kang/Programming-Team-Notes/blob/Python/Pythoncode.ipynb\" target=\"_parent\"><img src=\"https://colab.research.google.com/assets/colab-badge.svg\" alt=\"Open In Colab\"/></a>"
      ]
    },
    {
      "cell_type": "markdown",
      "source": [
        "# 👨‍💻 **파이썬 기초 문법**\n",
        "\n",
        "1. 자료형 (수, 리스트, 문자열, 튜플, 사전, 집합)\n",
        "2. 제어문과 함수 (조건문, 반복문, 함수)\n",
        "3. 입출력 (입력, 출력)\n",
        "4. 표준 라이브러리\n",
        "5. 자신만의 팀노트 만드는 TIP3\n",
        "\n",
        "- [💡 파이썬 공식문서](https://docs.python.org/ko/3.9/)\n",
        "- [💡 파이썬 온라인 저지](https://www.onlinegdb.com)\n",
        "- [💡 파이썬 튜터](https://pythontutor.com/python-debugger.html#mode=edit)\n",
        "\n"
      ],
      "metadata": {
        "id": "YGJ4IW01BjuB"
      }
    },
    {
      "cell_type": "markdown",
      "source": [
        "\n",
        "\n",
        "# 자료형\n",
        "파이썬의 자료형은 기본 자료형 뿐만 아니라 사전, 집합 자료형 등도 포함하고 있습니다.\n",
        "\n"
      ],
      "metadata": {
        "id": "gMUIubPzcFBV"
      }
    },
    {
      "cell_type": "markdown",
      "source": [
        "## 수 자료형\n",
        "- 정수형(Integer) : 양의 정수, 음의 정수, 0\n",
        "- 실수형(Real Number) : 소수점 아래의 데이터를 포함하는 자료형\n",
        "\n",
        "```python\n",
        "a = -7 # 음의 정수\n",
        "a = -.7 # 정수부가 0일 때 0을 생략한 자료형\n",
        "```\n",
        "\n",
        "### 무한(INF) 표현하기\n",
        "파이썬에서는 실수형을 이용하여 `e`나 `E` 다음에 숫자를 넣어 지수를 표현할 수 있습니다.\n",
        "만약에 **1e9일 경우 10억**을 지수로 표현한 방법입니다.\n",
        "\n",
        "### 수 자료형 연산\n",
        "보통 특정 변수 a가 홀수 인지를 알아볼때 `a가 2로 나눈 나머지가 1인지를 확인하는 경우`로 알아보는데 이때 나머지 연산자(`%`)를 사용합니다.\n",
        "\n",
        "### 아스키코드 변환 및 진수 변환\n",
        "- `ord()` : 문자에서 아스키코드로 변환\n",
        "- `chr()` : 아스키코드에서 문자로 변환\n",
        "- 8진수(octal) : `%o`\n",
        "- 16진수(hexadecimal) : `%x`"
      ],
      "metadata": {
        "id": "tWqJ64Kdcg4I"
      }
    },
    {
      "cell_type": "code",
      "source": [
        "a = 75.25e1\n",
        "print(a)\n",
        "\n",
        "b = 3954e-3\n",
        "print(b)"
      ],
      "metadata": {
        "colab": {
          "base_uri": "https://localhost:8080/"
        },
        "id": "xThpuZY3cgLH",
        "outputId": "2a4103db-3b77-4096-83de-32e43eab89a4"
      },
      "execution_count": null,
      "outputs": [
        {
          "output_type": "stream",
          "name": "stdout",
          "text": [
            "752.5\n",
            "3.954\n"
          ]
        }
      ]
    },
    {
      "cell_type": "code",
      "source": [
        "# 컴퓨터는 실수를 정확히 표현하지 못합니다.\n",
        "a = 0.3 + 0.6\n",
        "print(a)\n",
        "# 이럴 때는 round()함수를 사용하여 반올림을 합니다.\n",
        "print(round(a, 4))\n",
        "\n",
        "if a == 0.9:\n",
        "  print(True)\n",
        "else :\n",
        "  print(False) "
      ],
      "metadata": {
        "colab": {
          "base_uri": "https://localhost:8080/"
        },
        "id": "JNYaDBareJMN",
        "outputId": "6971e1ff-3496-4925-e2ae-4aeabf9ce6af"
      },
      "execution_count": null,
      "outputs": [
        {
          "output_type": "stream",
          "name": "stdout",
          "text": [
            "0.8999999999999999\n",
            "0.9\n",
            "False\n"
          ]
        }
      ]
    },
    {
      "cell_type": "code",
      "source": [
        "a = 7\n",
        "b = 3\n",
        "\n",
        "print(a/b)\n",
        "\n",
        "print(a%b) # 나머지\n",
        "print(a//b) # 몫\n",
        "\n",
        "print(a**b) # 제곱"
      ],
      "metadata": {
        "colab": {
          "base_uri": "https://localhost:8080/"
        },
        "id": "8c20aW9xemtC",
        "outputId": "4e5f7496-2a38-49d3-baa5-4a736962ebb0"
      },
      "execution_count": null,
      "outputs": [
        {
          "output_type": "stream",
          "name": "stdout",
          "text": [
            "2.3333333333333335\n",
            "1\n",
            "2\n",
            "343\n"
          ]
        }
      ]
    },
    {
      "cell_type": "code",
      "source": [
        "a = 'A'\n",
        "a = ord(a) # 문자 -> 숫자\n",
        "print(a)\n",
        "a = chr(a + 1) # 숫자 -> 문자\n",
        "print(a)\n",
        "\n",
        "b = 'f'\n",
        "b = int(b,16) # 16진수로 변환\n",
        "print('%o'%b) # 8진수로 변환"
      ],
      "metadata": {
        "id": "Vw4OKwGdAYHC",
        "outputId": "5701d0b7-fa0d-430b-df04-3e97a743bea3",
        "colab": {
          "base_uri": "https://localhost:8080/"
        }
      },
      "execution_count": null,
      "outputs": [
        {
          "output_type": "stream",
          "name": "stdout",
          "text": [
            "65\n",
            "B\n",
            "17\n"
          ]
        }
      ]
    },
    {
      "cell_type": "markdown",
      "source": [
        "## 리스트 자료형\n",
        "여러개 데이터를 연속적으로 담아 처리할 수 있고 연결리스트 자료구조 기능을 포함하고 있어 `append()` `remove()` 등 메서드를 지원합니다.\n",
        "\n",
        "```python\n",
        "# 리스트 선언 및 생성\n",
        "a = [1, 2, 3, 4, 5, 6]\n",
        "\n",
        "# 빈 리스트 선언\n",
        "a = list()\n",
        "a = []\n",
        "\n",
        "# 크기가 N이고 모든 값이 0인 1차원 리스트 초기화\n",
        "n = 10\n",
        "a = [0] * n\n",
        "```\n",
        "\n",
        "### 리스트 컴프리헨션\n",
        "리스트를 초기화하는 방법 중 하나로 대괄호`[]`안에 조건문이나 반복문을 넣어 간결하게 초기화할 수 있습니다.\n",
        "\n",
        "```python\n",
        "# 20까지의 수 중에서 홀수만 담은 리스트 초기화\n",
        "array = [i for i in range(20) if i % 2 == 1]\n",
        "\n",
        "# n X m 크기의 2차원 리스트 초기화\n",
        "n = 3\n",
        "m = 4\n",
        "array = [[0] * m for _ in range(n)]\n",
        "```\n",
        "\n",
        "> 💡 특정 크기를 가지는 2차원 리스트를 초기화할 떄는 반드시 리스트 컴프리핸션을 사용합니다.\n",
        "\n",
        "| 메서드 명 | 사용법 | 시간 복잡도 |\n",
        "| --- | --- | --- |\n",
        "| append() | 변수명.append() | O(1) |\n",
        "| sort() | 변수명.sort(), `reverse` 옵션으로 내림차순 가능 | O(NlogN) |\n",
        "| reverse() | 변수명.reverse() | O(N) |\n",
        "| insert() | 변수명.insert(삽입 인덱스, 삽입 값) | O(N) |\n",
        "| count() | 변수명.count(특정값) | O(N) |\n",
        "| remove() | 변수명.remove(특정 값) | O(N) |\n",
        "\n",
        "\n",
        "`insert()`와 `remove()`는 `append()`와 다르게 O(N)입니다. 이유는 데이터를 추가/삭제하고나서 원소의 위치를 다시 조정해야하기 때문입니다.\n",
        "\n"
      ],
      "metadata": {
        "id": "B7af2Gl6fMfW"
      }
    },
    {
      "cell_type": "code",
      "source": [
        "a = [1, 4, 3]\n",
        "print(\"기본 리스트: \", a)\n",
        "\n",
        "a.append(2)\n",
        "print(\"원소 삽입: \", a)\n",
        "\n",
        "a.sort()\n",
        "print(\"오름차순 정렬: \", a)\n",
        "\n",
        "a.sort(reverse=True)\n",
        "print(\"내림차순 정렬: \", a)\n",
        "\n",
        "a.reverse()\n",
        "print(\"원소 뒤집기: \", a)\n",
        "\n",
        "a.insert(0, 0)\n",
        "print(\"인덱스 0에 0 추가: \", a)\n",
        "\n",
        "print(\"특정 값 갯수 세기: \", a.count(3))\n",
        "\n",
        "a.remove(2)\n",
        "print(\"값이 2인 데이터 제거: \", a)"
      ],
      "metadata": {
        "colab": {
          "base_uri": "https://localhost:8080/"
        },
        "id": "_mIjUyKIe6kx",
        "outputId": "c1c04a13-bca9-4b96-e01a-6c3630475810"
      },
      "execution_count": null,
      "outputs": [
        {
          "output_type": "stream",
          "name": "stdout",
          "text": [
            "기본 리스트:  [1, 4, 3]\n",
            "원소 삽입:  [1, 4, 3, 2]\n",
            "오름차순 정렬:  [1, 2, 3, 4]\n",
            "내림차순 정렬:  [4, 3, 2, 1]\n",
            "원소 뒤집기:  [1, 2, 3, 4]\n",
            "인덱스 0에 0 추가:  [0, 1, 2, 3, 4]\n",
            "특정 값 갯수 세기:  1\n",
            "값이 2인 데이터 제거:  [0, 1, 3, 4]\n"
          ]
        }
      ]
    },
    {
      "cell_type": "code",
      "source": [
        "# 특정 값의 원소 모두 제거하는 방법\n",
        "a = [1, 2, 3, 4, 5, 5, 5]\n",
        "remove_set = {3, 5}\n",
        "\n",
        "# remove_set에 포함되지 않은 값만 제거\n",
        "result = [i for i in a if i not in remove_set]\n",
        "print(result)"
      ],
      "metadata": {
        "colab": {
          "base_uri": "https://localhost:8080/"
        },
        "id": "MRq4dlhviR71",
        "outputId": "6adaba1f-ef96-4256-f53f-3c5d2cfc568c"
      },
      "execution_count": null,
      "outputs": [
        {
          "output_type": "stream",
          "name": "stdout",
          "text": [
            "[1, 2, 4]\n"
          ]
        }
      ]
    },
    {
      "cell_type": "code",
      "source": [
        "# 리스트 인덱싱과 슬라이싱\n",
        "\n",
        "a = [1, 2, 3, 4, 5, 6, 7, 8, 9]\n",
        "\n",
        "print(a[-3]) # 뒤에서 세번째 인덱스\n",
        "\n",
        "a[3] = 9 # 원소 값 변경\n",
        "print(a)\n",
        "\n",
        "# 1부터 9 까지 3칸 뛰면서 슬라이싱\n",
        "print(a[::3])"
      ],
      "metadata": {
        "colab": {
          "base_uri": "https://localhost:8080/"
        },
        "id": "g90ymkZ_j0og",
        "outputId": "c9404bfa-a7d8-405d-8b5c-657596fe937b"
      },
      "execution_count": null,
      "outputs": [
        {
          "output_type": "stream",
          "name": "stdout",
          "text": [
            "7\n",
            "[1, 2, 3, 9, 5, 6, 7, 8, 9]\n",
            "[1, 9, 7]\n"
          ]
        }
      ]
    },
    {
      "cell_type": "markdown",
      "source": [
        "## 문자열 자료형\n",
        "문자열 변수는 초기화할 때 큰 따옴표와 작은 따옴표를 사용하는데 큰 타옴표 안에 작은 따옴표를 포함할 수 있습니다. 백슬래쉬(`\\\"`) 다음에 따옴표를 사용하면 문자로 처리할 수 있습니다.\n"
      ],
      "metadata": {
        "id": "L28zqptvkUkT"
      }
    },
    {
      "cell_type": "code",
      "source": [
        "a = \"String\"\n",
        "print(a * 3)\n",
        "\n",
        "a = \"ABCDE\"\n",
        "print(a[2:4])\n",
        "\n",
        "a = 'Gangnam' # 문자열 거꾸로\n",
        "print(a[::-1])\n",
        "print(''.join(list(reversed(a))))"
      ],
      "metadata": {
        "colab": {
          "base_uri": "https://localhost:8080/"
        },
        "id": "InLsQjHtkFpr",
        "outputId": "58a9596e-af45-4faf-891e-987513486535"
      },
      "execution_count": 3,
      "outputs": [
        {
          "output_type": "stream",
          "name": "stdout",
          "text": [
            "StringStringString\n",
            "CD\n",
            "mangnaG\n",
            "mangnaG\n"
          ]
        }
      ]
    },
    {
      "cell_type": "markdown",
      "source": [
        "## 튜플 자료형\n",
        "튜플 자료형은 리스트와 비슷하나 **두가지의 차이점**이 존재합니다.\n",
        "\n",
        "1. 튜플은 한 번 선언된 값은 **다시 변경할 수 없다.**\n",
        "2. 리스트는 대괄호`[]`를 아용하지만 튜플은 소괄호`()`를 이용한다.\n",
        "\n",
        "- 튜플 자료형은 그래프 알고리즘을 구현할 때 자주 사용합니다. (다익스트라 알고리즘 내부의 우선순위 큐)\n"
      ],
      "metadata": {
        "id": "pgq9nZ4qlFFR"
      }
    },
    {
      "cell_type": "code",
      "source": [
        "a = (1,2,3,4)\n",
        "a[2] = 5"
      ],
      "metadata": {
        "colab": {
          "base_uri": "https://localhost:8080/",
          "height": 181
        },
        "id": "onNrRxHQlBVa",
        "outputId": "c9e8ea25-3b80-4916-9ae4-aa3dadcc000a"
      },
      "execution_count": null,
      "outputs": [
        {
          "output_type": "error",
          "ename": "TypeError",
          "evalue": "ignored",
          "traceback": [
            "\u001b[0;31m---------------------------------------------------------------------------\u001b[0m",
            "\u001b[0;31mTypeError\u001b[0m                                 Traceback (most recent call last)",
            "\u001b[0;32m<ipython-input-27-2d4c3e60a943>\u001b[0m in \u001b[0;36m<module>\u001b[0;34m\u001b[0m\n\u001b[1;32m      1\u001b[0m \u001b[0ma\u001b[0m \u001b[0;34m=\u001b[0m \u001b[0;34m(\u001b[0m\u001b[0;36m1\u001b[0m\u001b[0;34m,\u001b[0m\u001b[0;36m2\u001b[0m\u001b[0;34m,\u001b[0m\u001b[0;36m3\u001b[0m\u001b[0;34m,\u001b[0m\u001b[0;36m4\u001b[0m\u001b[0;34m)\u001b[0m\u001b[0;34m\u001b[0m\u001b[0;34m\u001b[0m\u001b[0m\n\u001b[0;32m----> 2\u001b[0;31m \u001b[0ma\u001b[0m\u001b[0;34m[\u001b[0m\u001b[0;36m2\u001b[0m\u001b[0;34m]\u001b[0m \u001b[0;34m=\u001b[0m \u001b[0;36m5\u001b[0m\u001b[0;34m\u001b[0m\u001b[0;34m\u001b[0m\u001b[0m\n\u001b[0m",
            "\u001b[0;31mTypeError\u001b[0m: 'tuple' object does not support item assignment"
          ]
        }
      ]
    },
    {
      "cell_type": "markdown",
      "source": [
        "## 사전 자료형\n",
        "사전 자료형은 키(key)과 값(Value)쌍으로 구성되며 튜플 처럼 변경이 불가능한 데이터를 키로 사용할 수 있다.\n",
        "\n",
        "- 사전 자료형은 검색 및 수정에 있어 O(1)에 시간에 처리할 수 있습니다."
      ],
      "metadata": {
        "id": "mu0JypXQl27Q"
      }
    },
    {
      "cell_type": "code",
      "source": [
        "data = dict()\n",
        "data['사과'] = 'Apple'\n",
        "data['바나나'] = 'Banana'\n",
        "data['코코넛'] = 'Coconut'\n",
        "\n",
        "if '사과' in data:\n",
        "  print(\"'사과'를 키로 가지는 데이터가 존재합니다.\")"
      ],
      "metadata": {
        "colab": {
          "base_uri": "https://localhost:8080/"
        },
        "id": "vzhY-h5Hlyk3",
        "outputId": "e28dbf3d-5496-4e7c-89a5-3faf05030a7c"
      },
      "execution_count": null,
      "outputs": [
        {
          "output_type": "stream",
          "name": "stdout",
          "text": [
            "'사과'를 키로 가지는 데이터가 존재합니다.\n"
          ]
        }
      ]
    },
    {
      "cell_type": "code",
      "source": [
        "key_list = data.keys()\n",
        "print(key_list)\n",
        "\n",
        "value_list = data.values()\n",
        "print(value_list)\n",
        "\n",
        "print(\" \")\n",
        "\n",
        "\n",
        "for key in key_list:\n",
        "  print(data[key])"
      ],
      "metadata": {
        "colab": {
          "base_uri": "https://localhost:8080/"
        },
        "id": "OEM5N1Fwm5fp",
        "outputId": "7656fd0e-8754-4c73-e387-ead74c70a151"
      },
      "execution_count": null,
      "outputs": [
        {
          "output_type": "stream",
          "name": "stdout",
          "text": [
            "dict_keys(['사과', '바나나', '코코넛'])\n",
            "dict_values(['Apple', 'Banana', 'Coconut'])\n",
            " \n",
            "Apple\n",
            "Banana\n",
            "Coconut\n"
          ]
        }
      ]
    },
    {
      "cell_type": "markdown",
      "source": [
        "## 집합 자료형\n",
        "집합을 처리하는 자료형으로 기본적으로 리스트와 문자열을 통해서 만들 수 있습니다.\n",
        "- 중복 허용 X\n",
        "- 순서 X\n",
        "- 시간 복잡도 O(1)\n",
        "\n",
        "보통 특정한 데이터가 이미 등장한 적 있는지 여부를 체크할 때 매우 효과적입니다.\n",
        "\n",
        "### 집합 자료형 연산\n",
        "- 합집합 : |\n",
        "- 교집합 : &\n",
        "- 차집합 : -\n",
        "\n",
        "### 관련 함수\n",
        "- `변수명.add(값)` : 원소 추가\n",
        "- `변수명.update([값,값])` : 원소 여러개 추가\n",
        "- `변수명.remove(값)` : 원소 삭제"
      ],
      "metadata": {
        "id": "Q4aE_COQnZac"
      }
    },
    {
      "cell_type": "code",
      "source": [
        "data = set([1,2,3])\n",
        "print(data)\n",
        "\n",
        "data.update([5,5,6,4])\n",
        "print(data)\n",
        "\n",
        "data.remove(3)\n",
        "print(data)"
      ],
      "metadata": {
        "colab": {
          "base_uri": "https://localhost:8080/"
        },
        "id": "GAGLzaYanBBf",
        "outputId": "ad988285-e675-4b0a-d85a-6c1c5d61699d"
      },
      "execution_count": null,
      "outputs": [
        {
          "output_type": "stream",
          "name": "stdout",
          "text": [
            "{1, 2, 3}\n",
            "{1, 2, 3, 4, 5, 6}\n",
            "{1, 2, 4, 5, 6}\n"
          ]
        }
      ]
    },
    {
      "cell_type": "markdown",
      "source": [
        "# 제어문과 함수"
      ],
      "metadata": {
        "id": "Zt2RTbYKoj1M"
      }
    },
    {
      "cell_type": "markdown",
      "source": [
        "## 조건문\n",
        "- 프로그램의 흐름을 제어하는 문법입니다.\n",
        "- 코드블록을 들여쓰기로 설정한다. (띄어쓰기 4번, 1Tab)\n",
        "- **`pass`를 이용**하여 아무것도 하지않고 넘어갈 수 있습니다.\n",
        "\n",
        "> ### 📌 비교, 논리, 기타 연산자\n",
        "> - **비교 연산자** : 두 값을 비교할 때 이용할 수 있다. _`> < >= <= !=`_\n",
        "> - **논리 연산자** : 2개의 논리 값 사이의 연산을 수행할 수 있다. _`and or not`_\n",
        "> - **기타 연산자** : 자료형 안에 어떤 값이 존재하는지 확인할 수 있다. _`in, not in`_\n",
        "\n",
        "\n"
      ],
      "metadata": {
        "id": "M4LI7iusyX7o"
      }
    },
    {
      "cell_type": "code",
      "source": [
        "score = 85\n",
        "\n",
        "if score >= 80:\n",
        "    pass\n",
        "else:\n",
        "    print('성적이 80점 미만입니다.')\n",
        "\n",
        "print('프로그램을 종료합니다.')\n",
        "\n",
        "## 실행 코드가 한 줄인 경우 아래와 같이 표현할 수 있다.\n",
        "\n",
        "if score >= 80: result = \"Success\"\n",
        "else: result = \"Fail\"\n",
        "\n",
        "## 조건부 표현식(Conditional Expression)을 사용하여 한줄에 작성할 수 있다.\n",
        "\n",
        "result = \"Suceesss\" if score >= 80 else \"Fail\"\n",
        "\n",
        "print(result)"
      ],
      "metadata": {
        "id": "fkuSN_k9okxS",
        "outputId": "1b48c469-e9ea-404f-f8f9-5ff650e86b46",
        "colab": {
          "base_uri": "https://localhost:8080/"
        }
      },
      "execution_count": null,
      "outputs": [
        {
          "output_type": "stream",
          "name": "stdout",
          "text": [
            "프로그램을 종료합니다.\n",
            "Suceesss\n"
          ]
        }
      ]
    },
    {
      "cell_type": "markdown",
      "source": [
        "## 반복문\n",
        "### while\n",
        "조건문이 참일 때에 한해서 반복적인 코드가 수행됩니다.\n",
        "\n",
        "```python\n",
        "i = 1\n",
        "result = 0\n",
        "\n",
        "# i가 9보다 작거나 같을 때 2️⃣ 블록을 반복해서 실행하라.\n",
        "#(i가 9보다 커지기 전까지 무한 반복)\n",
        "while i <= 9: #1️⃣\n",
        "  result += i  #2️⃣\n",
        "  i += 1\n",
        "\n",
        "print(result)\n",
        "```\n",
        "\n",
        "\n",
        "### for\n",
        "리스트를 사용할 때 많이 쓰이는 반복문으로 모든 원소를 첫번째 인덱스 부터 한번씩 방문합니다. **리스트, 튜플, 문자열** 등이 사용될 수 있습니다.\n",
        "\n",
        "```python\n",
        "result = 0\n",
        "\n",
        "# i는 1부터 9까지 모든 값을 순회합니다.\n",
        "for i in range(1, 10):\n",
        "    result += i\n",
        "\n",
        "print(result)\n",
        "```\n",
        "\n",
        "- `range(시작값, 끝값 + 1)`\n",
        "- `continue`를 만나면 프로그램의 흐름은 반복문의 처음으로 돌아갑니다.\n",
        "- 반복문은 얼마든지 중첩으로 사용할 수 있습니다.(플로이드 워셜 알고리즘, 다이나믹 프로그래밍, 구구단)"
      ],
      "metadata": {
        "id": "jTRD6xaE1k2l"
      }
    },
    {
      "cell_type": "code",
      "source": [
        "scores = [90, 85, 77, 65, 97]\n",
        "cheating_list = {2, 4} # 블랙리스트\n",
        "\n",
        "for i in range(5):\n",
        "    if i  + 1 in cheating_list:\n",
        "        continue\n",
        "    if scores[i] >= 80:\n",
        "      print(i + 1, \"번 학생은 합격입니다.\")"
      ],
      "metadata": {
        "id": "EriBUF-o0tkw",
        "outputId": "31806e49-50e9-49ea-c18b-8d43057098dc",
        "colab": {
          "base_uri": "https://localhost:8080/"
        }
      },
      "execution_count": null,
      "outputs": [
        {
          "output_type": "stream",
          "name": "stdout",
          "text": [
            "1 번 학생은 합격입니다.\n",
            "5 번 학생은 합격입니다.\n"
          ]
        }
      ]
    },
    {
      "cell_type": "markdown",
      "source": [
        "## 함수\n",
        "동일한 알고리즘을 반복적으로 사용할 때 유용하게 사용할 수 있는  함수!\n",
        "\n",
        "- 함수에서는 매개변수와 `return`이 존재하나 필요에 의해 없을 수도 있습니다.\n",
        "- 함수 밖에 있는 변수를 사용하고자 할때는 **`global`변수를 사용하여 참조**할 수 있습니다.\n",
        "\n",
        "### 람다 표현식 (lambda Express)\n",
        "함수를 매우 간단하게 사용할 수 있는 식입니다. \n",
        "\n",
        "- 정렬 라이브러리를 사용할 때 Key 기준으로 사용할 때에도 자주 사용됩니다."
      ],
      "metadata": {
        "id": "m81BhIzS4tX0"
      }
    },
    {
      "cell_type": "code",
      "source": [
        "a = 0\n",
        "\n",
        "def func():\n",
        "    global a\n",
        "    a += 1\n",
        "\n",
        "for i in range(10):\n",
        "    func()\n",
        "\n",
        "print(a)"
      ],
      "metadata": {
        "id": "ZmP0cFm44pnL",
        "outputId": "317abfac-d878-40d4-8185-792b254c0f20",
        "colab": {
          "base_uri": "https://localhost:8080/"
        }
      },
      "execution_count": null,
      "outputs": [
        {
          "output_type": "stream",
          "name": "stdout",
          "text": [
            "10\n"
          ]
        }
      ]
    },
    {
      "cell_type": "code",
      "source": [
        "def add(a, b):\n",
        "    return a + b\n",
        "\n",
        "print(add(3, 5))\n",
        "\n",
        "print((lambda a, b : a+b)(3, 5))"
      ],
      "metadata": {
        "id": "mDNiNJzg6KK2",
        "outputId": "7232e529-987d-474b-a27f-f368ab8eae76",
        "colab": {
          "base_uri": "https://localhost:8080/"
        }
      },
      "execution_count": null,
      "outputs": [
        {
          "output_type": "stream",
          "name": "stdout",
          "text": [
            "8\n",
            "8\n"
          ]
        }
      ]
    },
    {
      "cell_type": "markdown",
      "source": [
        "# 입출력"
      ],
      "metadata": {
        "id": "v0qCbXht69qm"
      }
    },
    {
      "cell_type": "markdown",
      "source": [
        "## 입력\n",
        "### 입력 갯수가 적을 경우\n",
        "```python\n",
        "# 데이터 갯수를 입력 ex.5\n",
        "n = int(input()) \n",
        "# 각 데이터를 공백으로 구분하여 입력 ex.65 90 75 34 99\n",
        "data = list(map(int, input().split()))\n",
        "\n",
        "data.sort(reverse = True)\n",
        "print(data)\n",
        "```\n",
        "1. `input().split()` : 입력받은 문자열을 공백으로 나눈 리스트로 바꾼다.\n",
        "2. `map(int, list)` : 해당 리스트의 모든 원소를 `int`타입으로 변경한다. (`map` 클래스)\n",
        "3. `list()` : 최종적으로 결과를 리스트로 바꾼다.\n",
        "\n",
        "\n",
        "### 입력 갯수가 많을 경우\n",
        "```python\n",
        "import sys\n",
        "\n",
        "data = sys.stdin.readline().rstrip()\n",
        "print(data)\n",
        "```\n",
        "`sys`라이브러리에서 한 줄을 입력받고 반드시 `rstrip()`을 호출해야하는데 `readline()`으로 입력된 한줄의 공백을 제거하기 위해서 입니다."
      ],
      "metadata": {
        "id": "OFZvVPc68CzG"
      }
    },
    {
      "cell_type": "code",
      "source": [
        "y, m, d = map(int, input().split(\"-\"))\n",
        "print(y,m,d)\n",
        "\n",
        "data = input().split(\"-\")\n",
        "print(type(data))\n"
      ],
      "metadata": {
        "id": "dDJ9KGL76bsV",
        "outputId": "c1939a41-8991-46ed-e0db-570f1d68c64a",
        "colab": {
          "base_uri": "https://localhost:8080/"
        }
      },
      "execution_count": null,
      "outputs": [
        {
          "output_type": "stream",
          "name": "stdout",
          "text": [
            "2022-02-02\n",
            "2022 2 2\n",
            "2022-02-02\n",
            "<class 'list'>\n"
          ]
        }
      ]
    },
    {
      "cell_type": "markdown",
      "source": [
        "## 출력\n",
        "### print()\n",
        "출력 함수는 기본적으로 줄 바꿈을 수행합니다. \n",
        "\n",
        "가끔 문자열과 숫자를 같이 출력해야할 때가 있는데 이때 연산자(`+`)를 입력하면 오류가 발생합니다. 이럴 때 아래 방법들로 해결할 수 있습니다.\n",
        "\n",
        "- `str()`처럼 문자열로 변환\n",
        "- 각 자료형을 `,`로 구분하여 해결합니다. : 공백이 삽입될 수 있다는 단점!\n",
        "- f- string 방법"
      ],
      "metadata": {
        "id": "3ZFj4ic0-jRU"
      }
    },
    {
      "cell_type": "code",
      "source": [
        "answer = 7\n",
        "\n",
        "print(\"정답은 \" + str(answer) + \"입니다.\")\n",
        "print(\"정답은 \", answer, \"입니다.\")\n",
        "print(f\"정답은 {answer}입니다.\")"
      ],
      "metadata": {
        "id": "DM_VZ1RI9W0s",
        "outputId": "dc04461d-86a8-4bf8-cc56-c37151acf6c7",
        "colab": {
          "base_uri": "https://localhost:8080/"
        }
      },
      "execution_count": null,
      "outputs": [
        {
          "output_type": "stream",
          "name": "stdout",
          "text": [
            "정답은 7입니다.\n",
            "정답은  7 입니다.\n",
            "정답은 7입니다.\n"
          ]
        }
      ]
    },
    {
      "cell_type": "code",
      "source": [
        "answer = 7\n",
        "\n",
        "print(\"정답은 \" + answer + \" 입니다.\")"
      ],
      "metadata": {
        "id": "Knj0rMjE_Ofv",
        "outputId": "ac90c7a5-936f-4266-c93d-29596455e6b9",
        "colab": {
          "base_uri": "https://localhost:8080/",
          "height": 198
        }
      },
      "execution_count": null,
      "outputs": [
        {
          "output_type": "error",
          "ename": "TypeError",
          "evalue": "ignored",
          "traceback": [
            "\u001b[0;31m---------------------------------------------------------------------------\u001b[0m",
            "\u001b[0;31mTypeError\u001b[0m                                 Traceback (most recent call last)",
            "\u001b[0;32m<ipython-input-13-1cd9e39db6db>\u001b[0m in \u001b[0;36m<module>\u001b[0;34m\u001b[0m\n\u001b[1;32m      1\u001b[0m \u001b[0manswer\u001b[0m \u001b[0;34m=\u001b[0m \u001b[0;36m7\u001b[0m\u001b[0;34m\u001b[0m\u001b[0;34m\u001b[0m\u001b[0m\n\u001b[1;32m      2\u001b[0m \u001b[0;34m\u001b[0m\u001b[0m\n\u001b[0;32m----> 3\u001b[0;31m \u001b[0mprint\u001b[0m\u001b[0;34m(\u001b[0m\u001b[0;34m\"정답은 \"\u001b[0m \u001b[0;34m+\u001b[0m \u001b[0manswer\u001b[0m \u001b[0;34m+\u001b[0m \u001b[0;34m\" 입니다.\"\u001b[0m\u001b[0;34m)\u001b[0m\u001b[0;34m\u001b[0m\u001b[0;34m\u001b[0m\u001b[0m\n\u001b[0m",
            "\u001b[0;31mTypeError\u001b[0m: can only concatenate str (not \"int\") to str"
          ]
        }
      ]
    },
    {
      "cell_type": "markdown",
      "source": [
        "# 표준 라이브러리"
      ],
      "metadata": {
        "id": "wdHb5yaPAJqR"
      }
    },
    {
      "cell_type": "markdown",
      "source": [
        "라이브러리를 잘 사용하면 어떠한 코드에서는 효율적일 수 있고 잘못 사용하면 수행 시간이 비효율적으로 증가하기 떄문에 중요한 부분입니다.\n",
        "\n",
        "> 📌 **표준 라이브러리** : 특정한 프로그래밍 언어에서 자주 사용되는 표준 소스코드를 미리 구현해 놓은 라이브러리를 의미합니다. [🔗 참고](https://docs.python.org/ko/3.9/library/index.html)\n",
        "\n",
        "여기서는 다양한 표준 라이브러리 중에서 가장 대표적인 6가지만 요약하여 설명합니다.\n",
        "\n",
        "\n"
      ],
      "metadata": {
        "id": "Cp645M_FItni"
      }
    },
    {
      "cell_type": "markdown",
      "source": [
        "## 내장함수\n",
        "파이썬에서 별도의 `import` 기능 없이도 바로 사용할 수 있는 내장 함수 입니다. 대표적으로 `input()`과 `print()` 기능입니다. 그외로 아래 기능들이 존재합니다.\n",
        "\n",
        "- **`sum()`** : iterable한 객체가 입력으로 주어졌을 때, 모든 원소의 합을 반환하는 기능입니다. \n",
        "- **`min()`** : 파라미터가 2개 이상 들어왔을 때 그 중 가장 작은 값을 반환합니다. _가장 큰 값을 반환하는는 `max()` 함수도 있습니다.\n",
        "- **`eval()`** : 수학 수식이 문자열 형식으로 들어오면 해당 수식의 결과를 반환합니다.\n",
        "- **`sorted()`** : iterable한 객체가 들어왔을 때, 정렬된 결과를 반환합니다. `reverse` 속성으로 정렬 결과를 뒤집을 수 있습니다.\n",
        "- **`sort()`** : 이 함수를 통해서도 정렬된 결과를 반환할 수 있지만, 차이점으로 리스트에 있는 **내부 값이 정렬된 값으로 바로 변경**한다는 점입니다.\n",
        "\n",
        "> 📌 **iterable한 객체**란, 반복가능한 객체를 의미하며 리스트나 사전, 튜플등을 의미합니다."
      ],
      "metadata": {
        "id": "nvtNK0eoJ5UV"
      }
    },
    {
      "cell_type": "code",
      "source": [
        "## sum() min() max()\n",
        "result = sum([1, 2, 3, 4, 5])\n",
        "print(result)\n",
        "\n",
        "result = max(9, 1, 8, 2, 3)\n",
        "print(result)\n",
        "\n",
        "result = eval(\"(3 + 5) * 7\")\n",
        "print(result)\n",
        "\n",
        "\n",
        "## sorted() sort()\n",
        "result = sorted([9, 1, 8, 3, 4])\n",
        "print(result)\n",
        "\n",
        "result = [9, 1, 8, 3, 4]\n",
        "# result = result.sort() -> None\n",
        "result.sort()\n",
        "print(result)\n",
        "\n",
        "data = sorted([('뉴진스', 3), ('블랙핑크', 2), ('투애니원', 1)], key = lambda x: x[1]) \n",
        "# 원소를 튜플의 두번째 원소(수)를 기준으로 정렬\n",
        "print(data)\n",
        "\n",
        "data = [('뉴진스', 3), ('블랙핑크', 2), ('투애니원', 1)]\n",
        "data.sort(key = lambda x: x[1])\n",
        "print(data)"
      ],
      "metadata": {
        "id": "can8FEsNNFoo",
        "outputId": "1d336912-4ac0-475f-a9b3-f148bda1e130",
        "colab": {
          "base_uri": "https://localhost:8080/"
        }
      },
      "execution_count": null,
      "outputs": [
        {
          "output_type": "stream",
          "name": "stdout",
          "text": [
            "15\n",
            "9\n",
            "56\n",
            "[1, 3, 4, 8, 9]\n",
            "[1, 3, 4, 8, 9]\n",
            "[('투애니원', 1), ('블랙핑크', 2), ('뉴진스', 3)]\n",
            "[('투애니원', 1), ('블랙핑크', 2), ('뉴진스', 3)]\n"
          ]
        }
      ]
    },
    {
      "cell_type": "markdown",
      "source": [
        "## `itertools`\n",
        "\n",
        "`itertools`은 파이썬에서 **반복되는 데이터를 처리**하는 기능을 포함하는 라이브러리 입니다.\n",
        "\n",
        "### `permutations`\n",
        "- **iterable 객체**에서 r개의 데이터를 뽑아 **일렬로 나열하는 모든 경우를 계산**합니다. (경우의 수)\n",
        "-  `permutations`은 **클래스** 이기 때문에 **반드시 리스트로 변환하여 사용**합니다.\n",
        "\n",
        "### `combinations`\n",
        "- `combinations`도 `permutations`와 같이 r개의 데이터를 뽑지만, **순서를 고려하지 않고 나열**하는 모든 경우(조합)을 계산합니다.\n",
        "- 마찬가지로, **클래스** 이기 때문에 **반드시 리스트로 변환하여 사용**합니다.\n",
        "\n",
        "### `product`\n",
        "- `product`는 **`permutation` 처럼** 데이터를 뽑아 일렬로 나열하지만 **원소를 중복**하여 뽑습니다.\n",
        "- **`repeat` 속성** 값에 데이터의 수를 넣어줍니다.\n",
        "- 마찬가지로, **클래스** 이기 때문에 **반드시 리스트로 변환하여 사용**합니다.\n",
        "\n",
        "### `combination_with_replacement`\n",
        "- `combination_with_replacement`는 **`combinations` 처럼** 데이터를 뽑아 순서를 고려하지 않고 나열하는 모든 경우의 원소를 뽑지만 **중복하여** 뽑습니다.\n",
        "- 마찬가지로, **클래스** 이기 때문에 **반드시 리스트로 변환하여 사용**합니다.\n"
      ],
      "metadata": {
        "id": "aVzzsqlmNFI2"
      }
    },
    {
      "cell_type": "code",
      "source": [
        "from itertools import permutations, combinations, product, combinations_with_replacement\n",
        "\n",
        "data = ['가위', '바위', '보']\n",
        "\n",
        "result = list(permutations(data, 3))\n",
        "print(\"permutation \\n\", result, f\"\\n {len(result)}\")\n",
        "\n",
        "result = list(combinations(data, 3))\n",
        "print(\"combinations \\n\", result)\n",
        "\n",
        "result = list(product(data, repeat = 3))\n",
        "print(\"product \\n\", result)\n",
        "\n",
        "result = list(combinations_with_replacement(data, 3))\n",
        "print(\"combinations_with_replacement \\n\", result)"
      ],
      "metadata": {
        "id": "L_kN0Kx2RauB",
        "outputId": "9a101807-0358-4d1c-a58d-4bc69e990e58",
        "colab": {
          "base_uri": "https://localhost:8080/"
        }
      },
      "execution_count": null,
      "outputs": [
        {
          "output_type": "stream",
          "name": "stdout",
          "text": [
            "permutation \n",
            " [('가위', '바위', '보'), ('가위', '보', '바위'), ('바위', '가위', '보'), ('바위', '보', '가위'), ('보', '가위', '바위'), ('보', '바위', '가위')] \n",
            " 6\n",
            "combinations \n",
            " [('가위', '바위', '보')]\n",
            "product \n",
            " [('가위', '가위', '가위'), ('가위', '가위', '바위'), ('가위', '가위', '보'), ('가위', '바위', '가위'), ('가위', '바위', '바위'), ('가위', '바위', '보'), ('가위', '보', '가위'), ('가위', '보', '바위'), ('가위', '보', '보'), ('바위', '가위', '가위'), ('바위', '가위', '바위'), ('바위', '가위', '보'), ('바위', '바위', '가위'), ('바위', '바위', '바위'), ('바위', '바위', '보'), ('바위', '보', '가위'), ('바위', '보', '바위'), ('바위', '보', '보'), ('보', '가위', '가위'), ('보', '가위', '바위'), ('보', '가위', '보'), ('보', '바위', '가위'), ('보', '바위', '바위'), ('보', '바위', '보'), ('보', '보', '가위'), ('보', '보', '바위'), ('보', '보', '보')]\n",
            "combinations_with_replacement \n",
            " [('가위', '가위', '가위'), ('가위', '가위', '바위'), ('가위', '가위', '보'), ('가위', '바위', '바위'), ('가위', '바위', '보'), ('가위', '보', '보'), ('바위', '바위', '바위'), ('바위', '바위', '보'), ('바위', '보', '보'), ('보', '보', '보')]\n"
          ]
        }
      ]
    },
    {
      "cell_type": "markdown",
      "source": [
        "## `heapq`\n",
        "`heapq`는 다익스트라 최단 경로 알고리즘을 포함한 다양한 알고리즘에서 우선순위 큐 기능을 구현할 때 많이 사용합니다. 물론 `PriorityQueue` 알고리즘도 있으나 `heapq`가 더 빨리 동작할 수 있습니다. \n",
        "\n",
        "- `heapq.heappush(heap, value)` : 힙에 원소를 삽입할 때 쓰는 메서드\n",
        "- `heapq.heappop(heap)` : 힙에서 원소를 꺼내고자 할때 쓰는 메서드\n",
        "\n",
        "### 최소 힙 구현\n",
        "파이썬의 힙은 대부분 최소 힙(Min Heap) 입니다. 원소들을 힙에 넣고 빼내는 데 **O(NlogN)의 시간복잡도**가 들고 항상 최상단 원소는 가장 작은 원소 입니다.\n",
        "\n",
        "### 최대 힙 구현\n",
        "파이썬에서는 따로 최대 힙(Max Heap)을 제공하지 않지만 **원소의 부호를 임의로 바꾼다면 (-1 → 1)** 내림차 순 힙 정렬이 가능하죠."
      ],
      "metadata": {
        "id": "nhGY_MIQSs37"
      }
    },
    {
      "cell_type": "code",
      "source": [
        "# 최소 힙 구현\n",
        "\n",
        "import heapq\n",
        "\n",
        "def heapsort(iterable):\n",
        "    h = []\n",
        "    result = []\n",
        "\n",
        "    # 차례대로 모든 원소를 힙에 삽입\n",
        "    for value in iterable:\n",
        "        heapq.heappush(h, value)\n",
        "\n",
        "    # 힙에 삽입된 모든 원소들을 차례대로 꺼내어 담기\n",
        "    for _ in range(len(h)):\n",
        "        result.append(heapq.heappop(h))\n",
        "    return result\n",
        "\n",
        "result = heapsort([1, 3, 5, 7, 9, 2, 4, 6, 8, 0])\n",
        "print(result)"
      ],
      "metadata": {
        "id": "yxfDuwjDcwZx",
        "outputId": "88b2c48c-9d74-46d1-fc49-588d36a0415d",
        "colab": {
          "base_uri": "https://localhost:8080/"
        }
      },
      "execution_count": null,
      "outputs": [
        {
          "output_type": "stream",
          "name": "stdout",
          "text": [
            "[0, 1, 2, 3, 4, 5, 6, 7, 8, 9]\n"
          ]
        }
      ]
    },
    {
      "cell_type": "code",
      "source": [
        "# 최대 힙 구현\n",
        "\n",
        "import heapq\n",
        "\n",
        "def heapsort(iterable):\n",
        "    h = []\n",
        "    result = []\n",
        "\n",
        "    # 차례대로 모든 원소를 힙에 삽입\n",
        "    for value in iterable:\n",
        "        heapq.heappush(h, -value) # -value\n",
        "        print(value, h)\n",
        "\n",
        "    # 힙에 삽입된 모든 원소들을 차례대로 꺼내어 담기\n",
        "    for _ in range(len(h)):\n",
        "        result.append(-heapq.heappop(h))\n",
        "        print(result, h)\n",
        "    return result\n",
        "\n",
        "result = heapsort([1, 3, 5, 7, 9, 2, 4, 6, 8, 0])\n",
        "print(\"결과 : \", result)"
      ],
      "metadata": {
        "id": "On2WM5PyezD8",
        "outputId": "c93041a5-27e0-4b68-a06a-705b0cba22a7",
        "colab": {
          "base_uri": "https://localhost:8080/"
        }
      },
      "execution_count": null,
      "outputs": [
        {
          "output_type": "stream",
          "name": "stdout",
          "text": [
            "1 [-1]\n",
            "3 [-3, -1]\n",
            "5 [-5, -1, -3]\n",
            "7 [-7, -5, -3, -1]\n",
            "9 [-9, -7, -3, -1, -5]\n",
            "2 [-9, -7, -3, -1, -5, -2]\n",
            "4 [-9, -7, -4, -1, -5, -2, -3]\n",
            "6 [-9, -7, -4, -6, -5, -2, -3, -1]\n",
            "8 [-9, -8, -4, -7, -5, -2, -3, -1, -6]\n",
            "0 [-9, -8, -4, -7, -5, -2, -3, -1, -6, 0]\n",
            "[9] [-8, -7, -4, -6, -5, -2, -3, -1, 0]\n",
            "[9, 8] [-7, -6, -4, -1, -5, -2, -3, 0]\n",
            "[9, 8, 7] [-6, -5, -4, -1, 0, -2, -3]\n",
            "[9, 8, 7, 6] [-5, -3, -4, -1, 0, -2]\n",
            "[9, 8, 7, 6, 5] [-4, -3, -2, -1, 0]\n",
            "[9, 8, 7, 6, 5, 4] [-3, -1, -2, 0]\n",
            "[9, 8, 7, 6, 5, 4, 3] [-2, -1, 0]\n",
            "[9, 8, 7, 6, 5, 4, 3, 2] [-1, 0]\n",
            "[9, 8, 7, 6, 5, 4, 3, 2, 1] [0]\n",
            "[9, 8, 7, 6, 5, 4, 3, 2, 1, 0] []\n",
            "결과 :  [9, 8, 7, 6, 5, 4, 3, 2, 1, 0]\n"
          ]
        }
      ]
    },
    {
      "cell_type": "markdown",
      "source": [
        "## `bisect`\n",
        "\n",
        "**이진 탐색**을 쉽게 구현할 수 있도록 `bisect`라는 라이브러리를 제공합니다. 이 라이브러리는 '정렬된 배열'에서 특정 원소를 찾을 때 효과적입니다. \n",
        "\n",
        "- `bisect_left(list, data)` : 정렬된 순서를 유지하면서 리스트에 데이터를 **삽입할 가장 왼쪽 인덱스**를 찾는 메서드\n",
        "- `bisect_right(list, data)` : 정렬된 순서를 유지하면서 리스트에 데이터를 **삽입할 가장 오른쪽 인덱스**를 찾는 메서드\n",
        "\n",
        "이 두 함수는 시간 복잡도가 **O(logN)**입니다.\n",
        "\n",
        "```python\n",
        "from bisect import bisect_left, bisect_right\n",
        "\n",
        "a = [1, 2, 3, 4, 4, 8] \n",
        "x = 4\n",
        "\n",
        "print(bisect_left(a, x)) # 3\n",
        "print(bisect_right(a, x)) # 5\n",
        "\n",
        "```\n",
        "\n",
        "위 함수들을 통해서 정렬된 리스트에서 특정 범위에 값이 속하는 지도 알 수 있습니다. (`left_value <= x <= right_value` )"
      ],
      "metadata": {
        "id": "cAQ94MvofV23"
      }
    },
    {
      "cell_type": "code",
      "source": [
        "from bisect import bisect_left, bisect_right\n",
        "\n",
        "def count_by_range(a, left_value, right_value):\n",
        "    right_index = bisect_right(a, right_value)\n",
        "    left_index = bisect_left(a, left_value)\n",
        "    return right_index - left_index\n",
        "\n",
        "# 리스트 선언\n",
        "a = [1, 2, 3, 3, 3, 4, 4, 8, 9]\n",
        "\n",
        "# 값이 4인 데이터의 개수 출력\n",
        "print(count_by_range(a, 4, 4)) # 4, 4\n",
        "\n",
        "# [-1, 3] 범위에 있는 데이터 개수 출력\n",
        "print(count_by_range(a, -1, 3)) # 1, 2, 3, 3, 3\n"
      ],
      "metadata": {
        "id": "9RMR0h-ig5IM",
        "outputId": "a022afc4-9ced-4dcf-c6f5-fc491bf3e015",
        "colab": {
          "base_uri": "https://localhost:8080/"
        }
      },
      "execution_count": null,
      "outputs": [
        {
          "output_type": "stream",
          "name": "stdout",
          "text": [
            "2\n",
            "5\n"
          ]
        }
      ]
    },
    {
      "cell_type": "markdown",
      "source": [
        "## `collections`\n",
        "`collections` 라이브러리는 유용한 자료구조를 제공하는 표준 라이브러리입니다.\n",
        "\n",
        "### `deque`\n",
        "\n",
        "일반적으로 파이썬에는 `deque`를 통해 큐를 구현하는데 그렇다고 일반적인 자료구조인 큐를 구현하는데 사용하진 않습니다. \n",
        "\n",
        "보통 리스트에서는 가장 뒤쪽 원소를 기준으로 데이터를 처리하기 때문에 앞에 있는 원소를 처리할 때는 많은 시간이 소요됩니다. O(N).. 하지만 `deque`라이브러리는  **앞 뒤로 데이터를 삭제하는데 O(1)의 시간 복잡도가 걸린다는 장점**이 있습니다. 다만! **인덱싱과 슬라이싱이 되지 않습니다.**\n",
        "\n",
        "### `Counter`\n",
        "**등장 횟수**를 세는 기능을 제공합니다. 객체 내부의 **원소가 몇번을 등장했는지** 알 수 있습니다. "
      ],
      "metadata": {
        "id": "XFvOiY_5oMcO"
      }
    },
    {
      "cell_type": "code",
      "source": [
        "from collections import deque, Counter\n",
        "\n",
        "## deque\n",
        "data = deque([2, 3, 4])\n",
        "data.appendleft(1) # 왼쪽의 값을 추가하고 싶을 때\n",
        "data.append(5) # 오른쪽의 값을 추가하고 싶을 때\n",
        "\n",
        "print(data)\n",
        "print(list(data)) # 반드시 리스트 자료형으로 변환해야합니다.\n",
        "\n",
        "## Counter\n",
        "counter = Counter(['red', 'blue', 'red', 'green', 'blue', 'blue'])\n",
        "\n",
        "print(counter['blue'])\n",
        "print(dict(counter)) # 사전 자료형으로 변환\n",
        "print(counter.most_common()) # 등장 횟수 많은 순"
      ],
      "metadata": {
        "id": "qAjU5pLJoL2W",
        "outputId": "5153cd69-fa83-4399-8f6e-df48f04e6b59",
        "colab": {
          "base_uri": "https://localhost:8080/"
        }
      },
      "execution_count": 5,
      "outputs": [
        {
          "output_type": "stream",
          "name": "stdout",
          "text": [
            "deque([1, 2, 3, 4, 5])\n",
            "[1, 2, 3, 4, 5]\n",
            "3\n",
            "{'red': 2, 'blue': 3, 'green': 1}\n",
            "[('blue', 3), ('red', 2), ('green', 1)]\n"
          ]
        }
      ]
    },
    {
      "cell_type": "markdown",
      "source": [
        "## `math`\n",
        "수학적인 기능을 포함하고있는 라이브러리 입니다. 대표적으로 팩토리얼, 제곱근, 최대공약수(GCD)를 계산하는 기능을 제공하고 있습니다.\n",
        "\n",
        "### `factorial`\n",
        "- 5! = 1*2*3*4*5\n",
        "\n",
        "```python\n",
        "import math\n",
        "\n",
        "print(math.factorial(5)) # 120\n",
        "```\n",
        "\n",
        "### `sqrt`\n",
        "- x의 제곱근을 출력\n",
        "\n",
        "```python\n",
        "import math\n",
        "\n",
        "print(math.sqrt(25)) # 5\n",
        "```\n",
        "\n",
        "### `gcd`\n",
        "- a, b의 최대 공약수를 출력\n",
        "\n",
        "```python\n",
        "import math\n",
        "\n",
        "print(math.gcd(21, 14)) # 7\n",
        "```\n",
        "\n",
        "### `pi` `e`\n",
        "- 파이나 자연상수를 출력\n",
        "\n",
        "```python\n",
        "import math\n",
        "\n",
        "print(math.pi) # 3.14159...\n",
        "print(math.e) # 2.71828...\n",
        "```"
      ],
      "metadata": {
        "id": "pokZNETTqqip"
      }
    },
    {
      "cell_type": "markdown",
      "source": [
        "# 자신만의 알고리즘\n",
        "\n",
        "- [x] 이미 공부한 적 있는 알고리즘도 틈날 때마다 보기 좋게 소스코드를 정리하는 습관을 들이자.\n",
        "- [x] 자신만의 라이브러리를 만들 떄 단순히 함수만 적기보다 사용예시(방법)까지 기록하는 편이 좋습니다.\n",
        "- [x] 문제의 접근 방식과 풀이 방식을 기록하자.\n",
        "\n",
        "\n",
        "\n"
      ],
      "metadata": {
        "id": "_5JUdV13ATbM"
      }
    }
  ]
}